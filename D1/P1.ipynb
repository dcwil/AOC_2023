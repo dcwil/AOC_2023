{
 "cells": [
  {
   "cell_type": "code",
   "execution_count": 1,
   "id": "8c1b7eae-e57b-4304-9747-fc6b7b1b91e4",
   "metadata": {},
   "outputs": [],
   "source": [
    "import re"
   ]
  },
  {
   "cell_type": "code",
   "execution_count": 6,
   "id": "dc13d02b-7567-474a-b06c-ffad82c8c401",
   "metadata": {},
   "outputs": [],
   "source": [
    "def open_data(fname):\n",
    "    with open(fname, 'r') as h:\n",
    "        data = h.readlines()\n",
    "    data = [x.rstrip('\\n') for x in data]  # remove returns\n",
    "    return data\n",
    "\n",
    "def get_number_from_line(line):\n",
    "    digits = re.findall('[0-9]', line)\n",
    "    first, last = digits[0], digits[-1]\n",
    "    number = int(''.join([first, last]))\n",
    "    return number\n",
    "\n",
    "def get_total_from_lines(lines):\n",
    "    return sum([get_number_from_line(line) for line in lines])"
   ]
  },
  {
   "cell_type": "code",
   "execution_count": 7,
   "id": "148ba792-f36f-4b6f-a148-0184c377c8ad",
   "metadata": {},
   "outputs": [
    {
     "data": {
      "text/plain": [
       "142"
      ]
     },
     "execution_count": 7,
     "metadata": {},
     "output_type": "execute_result"
    }
   ],
   "source": [
    "example = open_data('example.txt')\n",
    "get_total_from_lines(example)"
   ]
  },
  {
   "cell_type": "code",
   "execution_count": 8,
   "id": "fa3d3bdb-362b-41fb-8c64-6d7311c8d693",
   "metadata": {},
   "outputs": [
    {
     "data": {
      "text/plain": [
       "55834"
      ]
     },
     "execution_count": 8,
     "metadata": {},
     "output_type": "execute_result"
    }
   ],
   "source": [
    "get_total_from_lines(open_data('data.txt'))"
   ]
  },
  {
   "cell_type": "code",
   "execution_count": null,
   "id": "830d2f20-482a-4a5c-b915-d4d894ae39ec",
   "metadata": {},
   "outputs": [],
   "source": []
  }
 ],
 "metadata": {
  "kernelspec": {
   "display_name": "Python 3 (ipykernel)",
   "language": "python",
   "name": "python3"
  },
  "language_info": {
   "codemirror_mode": {
    "name": "ipython",
    "version": 3
   },
   "file_extension": ".py",
   "mimetype": "text/x-python",
   "name": "python",
   "nbconvert_exporter": "python",
   "pygments_lexer": "ipython3",
   "version": "3.9.1"
  }
 },
 "nbformat": 4,
 "nbformat_minor": 5
}
