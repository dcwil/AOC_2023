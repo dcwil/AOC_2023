{
 "cells": [
  {
   "cell_type": "code",
   "execution_count": 1,
   "id": "9bab54f6-9c5e-4c05-900f-4ab8df1b7037",
   "metadata": {},
   "outputs": [],
   "source": [
    "def open_data(fname):\n",
    "    with open(fname, 'r') as h:\n",
    "        data = h.readlines()\n",
    "    data = [x.rstrip('\\n') for x in data]  # remove returns\n",
    "    return data"
   ]
  },
  {
   "cell_type": "code",
   "execution_count": 2,
   "id": "dfd15b5c-636f-4093-a11e-e1693101a601",
   "metadata": {},
   "outputs": [],
   "source": [
    "text_digits = ['one', 'two', 'three', 'four', 'five', 'six', 'seven', 'eight', 'nine']\n",
    "all_digits = {**{str(i): str(i) for i in range(1, 10)}, **{val: str(i + 1) for i, val in enumerate(text_digits)}}\n",
    "\n",
    "def get_number_from_line(line):\n",
    "    x = False\n",
    "    for digit in all_digits:\n",
    "        if digit in line:\n",
    "            \n",
    "            \n",
    "            idx = line.index(digit)\n",
    "\n",
    "            \n",
    "            if not x:\n",
    "                first, last = digit, digit\n",
    "                first_idx, last_idx = idx, idx\n",
    "                x = True\n",
    "    \n",
    "            if idx < first_idx:\n",
    "                first, first_idx = digit, idx\n",
    "                \n",
    "            if idx > last_idx:\n",
    "                last, last_idx = digit, idx\n",
    "\n",
    "\n",
    "            while True:\n",
    "                try:\n",
    "                    idx = line.index(digit, idx + 1)\n",
    "                except ValueError:\n",
    "                    break\n",
    "\n",
    "                if idx < first_idx:\n",
    "                    first, first_idx = digit, idx\n",
    "                \n",
    "                if idx > last_idx:\n",
    "                    last, last_idx = digit, idx\n",
    "    \n",
    "    number = int(''.join([all_digits[first], all_digits[last]]))\n",
    "    # print(line, number)\n",
    "    return number"
   ]
  },
  {
   "cell_type": "code",
   "execution_count": 3,
   "id": "24f539f4-705a-4ad1-8c0f-a59d7d745689",
   "metadata": {},
   "outputs": [],
   "source": [
    "def get_number_from_lines(lines):\n",
    "    return sum([get_number_from_line(line) for line in lines])"
   ]
  },
  {
   "cell_type": "code",
   "execution_count": 4,
   "id": "a6d0f463-0709-4a04-a5d0-a3cf20c53bae",
   "metadata": {},
   "outputs": [
    {
     "data": {
      "text/plain": [
       "281"
      ]
     },
     "execution_count": 4,
     "metadata": {},
     "output_type": "execute_result"
    }
   ],
   "source": [
    "get_number_from_lines(open_data('example2.txt'))"
   ]
  },
  {
   "cell_type": "code",
   "execution_count": 5,
   "id": "136e9bf3-6a35-49e9-96a8-0a2eeb77e364",
   "metadata": {},
   "outputs": [
    {
     "data": {
      "text/plain": [
       "53221"
      ]
     },
     "execution_count": 5,
     "metadata": {},
     "output_type": "execute_result"
    }
   ],
   "source": [
    "get_number_from_lines(open_data('data.txt'))"
   ]
  },
  {
   "cell_type": "code",
   "execution_count": null,
   "id": "1262aa1e-3825-47c8-86b8-121b9b2478ec",
   "metadata": {},
   "outputs": [],
   "source": []
  }
 ],
 "metadata": {
  "kernelspec": {
   "display_name": "Python 3 (ipykernel)",
   "language": "python",
   "name": "python3"
  },
  "language_info": {
   "codemirror_mode": {
    "name": "ipython",
    "version": 3
   },
   "file_extension": ".py",
   "mimetype": "text/x-python",
   "name": "python",
   "nbconvert_exporter": "python",
   "pygments_lexer": "ipython3",
   "version": "3.9.1"
  }
 },
 "nbformat": 4,
 "nbformat_minor": 5
}
